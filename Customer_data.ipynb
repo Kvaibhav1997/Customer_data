{
  "nbformat": 4,
  "nbformat_minor": 0,
  "metadata": {
    "colab": {
      "name": "Customer_data.ipynb",
      "provenance": [],
      "collapsed_sections": [],
      "authorship_tag": "ABX9TyNHC1gwNfK0RZTPb+d7vyCJ",
      "include_colab_link": true
    },
    "kernelspec": {
      "name": "python3",
      "display_name": "Python 3"
    },
    "language_info": {
      "name": "python"
    }
  },
  "cells": [
    {
      "cell_type": "markdown",
      "metadata": {
        "id": "view-in-github",
        "colab_type": "text"
      },
      "source": [
        "<a href=\"https://colab.research.google.com/github/Kvaibhav1997/Customer_data/blob/main/Customer_data.ipynb\" target=\"_parent\"><img src=\"https://colab.research.google.com/assets/colab-badge.svg\" alt=\"Open In Colab\"/></a>"
      ]
    },
    {
      "cell_type": "code",
      "metadata": {
        "id": "Feh3FUAaIvLH"
      },
      "source": [
        "import numpy as np\n",
        "import pandas as pd\n",
        "import seaborn as sns\n",
        "import matplotlib.pyplot as plt\n",
        "from scipy import stats\n",
        "from sklearn.preprocessing import LabelEncoder\n",
        "from sklearn.model_selection import train_test_split\n",
        "from sklearn.ensemble import RandomForestClassifier\n",
        "from sklearn.metrics import accuracy_score,classification_report,confusion_matrix\n",
        "from sklearn.metrics import r2_score\n",
        "from sklearn.metrics import mean_squared_error\n",
        "from math import sqrt\n",
        "from sklearn.metrics import confusion_matrix\n",
        "from sklearn.neighbors import KNeighborsClassifier\n",
        "from sklearn.preprocessing import StandardScaler\n",
        "from sklearn.model_selection import train_test_split"
      ],
      "execution_count": 243,
      "outputs": []
    },
    {
      "cell_type": "code",
      "metadata": {
        "colab": {
          "resources": {
            "http://localhost:8080/nbextensions/google.colab/files.js": {
              "data": "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",
              "ok": true,
              "headers": [
                [
                  "content-type",
                  "application/javascript"
                ]
              ],
              "status": 200,
              "status_text": ""
            }
          },
          "base_uri": "https://localhost:8080/",
          "height": 73
        },
        "id": "GonBnTcAUc9_",
        "outputId": "788e58f1-0731-4932-c453-736048c56dc3"
      },
      "source": [
        "from google.colab import files\n",
        "uploaded=files.upload()"
      ],
      "execution_count": 215,
      "outputs": [
        {
          "output_type": "display_data",
          "data": {
            "text/html": [
              "\n",
              "     <input type=\"file\" id=\"files-61438fea-a9eb-4e43-93ce-785883a0eee5\" name=\"files[]\" multiple disabled\n",
              "        style=\"border:none\" />\n",
              "     <output id=\"result-61438fea-a9eb-4e43-93ce-785883a0eee5\">\n",
              "      Upload widget is only available when the cell has been executed in the\n",
              "      current browser session. Please rerun this cell to enable.\n",
              "      </output>\n",
              "      <script src=\"/nbextensions/google.colab/files.js\"></script> "
            ],
            "text/plain": [
              "<IPython.core.display.HTML object>"
            ]
          },
          "metadata": {
            "tags": []
          }
        },
        {
          "output_type": "stream",
          "text": [
            "Saving customer-data.csv to customer-data (3).csv\n"
          ],
          "name": "stdout"
        }
      ]
    },
    {
      "cell_type": "code",
      "metadata": {
        "id": "q0vrWjQKKOdH"
      },
      "source": [
        "df=pd.read_csv(\"customer-data.csv\")"
      ],
      "execution_count": 244,
      "outputs": []
    },
    {
      "cell_type": "code",
      "metadata": {
        "colab": {
          "base_uri": "https://localhost:8080/",
          "height": 307
        },
        "id": "zZGK20dxKTvE",
        "outputId": "bd067713-ff95-4ffc-93a9-a32df6483ffa"
      },
      "source": [
        "df.head()"
      ],
      "execution_count": 245,
      "outputs": [
        {
          "output_type": "execute_result",
          "data": {
            "text/html": [
              "<div>\n",
              "<style scoped>\n",
              "    .dataframe tbody tr th:only-of-type {\n",
              "        vertical-align: middle;\n",
              "    }\n",
              "\n",
              "    .dataframe tbody tr th {\n",
              "        vertical-align: top;\n",
              "    }\n",
              "\n",
              "    .dataframe thead th {\n",
              "        text-align: right;\n",
              "    }\n",
              "</style>\n",
              "<table border=\"1\" class=\"dataframe\">\n",
              "  <thead>\n",
              "    <tr style=\"text-align: right;\">\n",
              "      <th></th>\n",
              "      <th>id</th>\n",
              "      <th>age</th>\n",
              "      <th>gender</th>\n",
              "      <th>race</th>\n",
              "      <th>driving_experience</th>\n",
              "      <th>education</th>\n",
              "      <th>income</th>\n",
              "      <th>credit_score</th>\n",
              "      <th>vehicle_ownership</th>\n",
              "      <th>vehicle_year</th>\n",
              "      <th>married</th>\n",
              "      <th>children</th>\n",
              "      <th>postal_code</th>\n",
              "      <th>annual_mileage</th>\n",
              "      <th>vehicle_type</th>\n",
              "      <th>speeding_violations</th>\n",
              "      <th>DUIs</th>\n",
              "      <th>past_accidents</th>\n",
              "      <th>outcome</th>\n",
              "    </tr>\n",
              "  </thead>\n",
              "  <tbody>\n",
              "    <tr>\n",
              "      <th>0</th>\n",
              "      <td>569520</td>\n",
              "      <td>65+</td>\n",
              "      <td>female</td>\n",
              "      <td>majority</td>\n",
              "      <td>0-9y</td>\n",
              "      <td>high school</td>\n",
              "      <td>upper class</td>\n",
              "      <td>0.629027</td>\n",
              "      <td>True</td>\n",
              "      <td>after 2015</td>\n",
              "      <td>False</td>\n",
              "      <td>True</td>\n",
              "      <td>10238</td>\n",
              "      <td>12000.0</td>\n",
              "      <td>sedan</td>\n",
              "      <td>0</td>\n",
              "      <td>0</td>\n",
              "      <td>0</td>\n",
              "      <td>False</td>\n",
              "    </tr>\n",
              "    <tr>\n",
              "      <th>1</th>\n",
              "      <td>750365</td>\n",
              "      <td>16-25</td>\n",
              "      <td>male</td>\n",
              "      <td>majority</td>\n",
              "      <td>0-9y</td>\n",
              "      <td>none</td>\n",
              "      <td>poverty</td>\n",
              "      <td>0.357757</td>\n",
              "      <td>False</td>\n",
              "      <td>before 2015</td>\n",
              "      <td>False</td>\n",
              "      <td>False</td>\n",
              "      <td>10238</td>\n",
              "      <td>16000.0</td>\n",
              "      <td>sedan</td>\n",
              "      <td>0</td>\n",
              "      <td>0</td>\n",
              "      <td>0</td>\n",
              "      <td>True</td>\n",
              "    </tr>\n",
              "    <tr>\n",
              "      <th>2</th>\n",
              "      <td>199901</td>\n",
              "      <td>16-25</td>\n",
              "      <td>female</td>\n",
              "      <td>majority</td>\n",
              "      <td>0-9y</td>\n",
              "      <td>high school</td>\n",
              "      <td>working class</td>\n",
              "      <td>0.493146</td>\n",
              "      <td>True</td>\n",
              "      <td>before 2015</td>\n",
              "      <td>False</td>\n",
              "      <td>False</td>\n",
              "      <td>10238</td>\n",
              "      <td>11000.0</td>\n",
              "      <td>sedan</td>\n",
              "      <td>0</td>\n",
              "      <td>0</td>\n",
              "      <td>0</td>\n",
              "      <td>False</td>\n",
              "    </tr>\n",
              "    <tr>\n",
              "      <th>3</th>\n",
              "      <td>478866</td>\n",
              "      <td>16-25</td>\n",
              "      <td>male</td>\n",
              "      <td>majority</td>\n",
              "      <td>0-9y</td>\n",
              "      <td>university</td>\n",
              "      <td>working class</td>\n",
              "      <td>0.206013</td>\n",
              "      <td>True</td>\n",
              "      <td>before 2015</td>\n",
              "      <td>False</td>\n",
              "      <td>True</td>\n",
              "      <td>32765</td>\n",
              "      <td>11000.0</td>\n",
              "      <td>sedan</td>\n",
              "      <td>0</td>\n",
              "      <td>0</td>\n",
              "      <td>0</td>\n",
              "      <td>False</td>\n",
              "    </tr>\n",
              "    <tr>\n",
              "      <th>4</th>\n",
              "      <td>731664</td>\n",
              "      <td>26-39</td>\n",
              "      <td>male</td>\n",
              "      <td>majority</td>\n",
              "      <td>10-19y</td>\n",
              "      <td>none</td>\n",
              "      <td>working class</td>\n",
              "      <td>0.388366</td>\n",
              "      <td>True</td>\n",
              "      <td>before 2015</td>\n",
              "      <td>False</td>\n",
              "      <td>False</td>\n",
              "      <td>32765</td>\n",
              "      <td>12000.0</td>\n",
              "      <td>sedan</td>\n",
              "      <td>2</td>\n",
              "      <td>0</td>\n",
              "      <td>1</td>\n",
              "      <td>True</td>\n",
              "    </tr>\n",
              "  </tbody>\n",
              "</table>\n",
              "</div>"
            ],
            "text/plain": [
              "       id    age  gender  ... DUIs past_accidents outcome\n",
              "0  569520    65+  female  ...    0              0   False\n",
              "1  750365  16-25    male  ...    0              0    True\n",
              "2  199901  16-25  female  ...    0              0   False\n",
              "3  478866  16-25    male  ...    0              0   False\n",
              "4  731664  26-39    male  ...    0              1    True\n",
              "\n",
              "[5 rows x 19 columns]"
            ]
          },
          "metadata": {
            "tags": []
          },
          "execution_count": 245
        }
      ]
    },
    {
      "cell_type": "code",
      "metadata": {
        "id": "_obG8Rh8u0UN"
      },
      "source": [
        "df.drop(['id', 'postal_code'], axis=1,inplace=True)"
      ],
      "execution_count": 246,
      "outputs": []
    },
    {
      "cell_type": "code",
      "metadata": {
        "colab": {
          "base_uri": "https://localhost:8080/"
        },
        "id": "z_ebn9KPFxRx",
        "outputId": "6f3b3b2b-532d-4714-93f2-f4ff7107f10a"
      },
      "source": [
        "#Q1. What proportion of customers with a credit score below 0.2 made a claim in the last year?\n",
        "data1=df[df['credit_score']>0.2].value_counts()\n",
        "print(data1)"
      ],
      "execution_count": 247,
      "outputs": [
        {
          "output_type": "stream",
          "text": [
            "age    gender  race      driving_experience  education    income         credit_score  vehicle_ownership  vehicle_year  married  children  annual_mileage  vehicle_type  speeding_violations  DUIs  past_accidents  outcome\n",
            "65+    male    minority  30y+                university   upper class    0.746672      True               after 2015    False    True      17000.0         sedan         1                    1     2               False      1\n",
            "26-39  female  minority  10-19y              high school  middle class   0.547843      True               before 2015   False    False     15000.0         sedan         0                    0     1               True       1\n",
            "                         0-9y                none         working class  0.661762      False              before 2015   False    False     12000.0         sedan         0                    0     0               True       1\n",
            "                                             university   middle class   0.535840      True               before 2015   True     False     12000.0         sedan         0                    0     0               False      1\n",
            "                                                                         0.539892      False              before 2015   False    True      9000.0          sedan         0                    0     0               True       1\n",
            "                                                                                                                                                                                                                              ..\n",
            "40-64  male    majority  0-9y                university   upper class    0.683966      True               after 2015    True     True      5000.0          sedan         0                    0     0               False      1\n",
            "                                                                         0.684038      True               before 2015   True     True      7000.0          sedan         0                    0     0               True       1\n",
            "                                                                         0.685485      True               before 2015   False    True      11000.0         sedan         0                    0     0               True       1\n",
            "                                                                         0.686690      False              after 2015    True     True      7000.0          sedan         0                    0     0               True       1\n",
            "16-25  female  majority  0-9y                high school  middle class   0.277630      True               after 2015    True     True      12000.0         sports car    0                    0     0               False      1\n",
            "Length: 8062, dtype: int64\n"
          ],
          "name": "stdout"
        }
      ]
    },
    {
      "cell_type": "code",
      "metadata": {
        "colab": {
          "base_uri": "https://localhost:8080/"
        },
        "id": "GgxdALKQIoyn",
        "outputId": "7eb77f56-cb1b-4dfd-98ec-45a62dcf31d4"
      },
      "source": [
        "#Q2. What is the average number of speeding violations among customers with driving experience between 20 and 29 years (inclusive)?\n",
        "data2=df[df['driving_experience']=='20-29y']\n",
        "\n",
        "print(\"The average no. of speeding violation is % s.\"% data2['speeding_violations'].mean())"
      ],
      "execution_count": 248,
      "outputs": [
        {
          "output_type": "stream",
          "text": [
            "The average no. of speeding violation is 2.734308636149127.\n"
          ],
          "name": "stdout"
        }
      ]
    },
    {
      "cell_type": "code",
      "metadata": {
        "colab": {
          "base_uri": "https://localhost:8080/"
        },
        "id": "ORTJyNDw4-Zi",
        "outputId": "60f4a8c1-5647-4624-ccab-5e5421bd6723"
      },
      "source": [
        "#Q3. What if you consider only the people in this group who drive a sports car?\n",
        "sports_car_driver=df[df['vehicle_type']=='sports car']\n",
        "print(sports_car_driver)"
      ],
      "execution_count": 249,
      "outputs": [
        {
          "output_type": "stream",
          "text": [
            "        age  gender      race  ... DUIs past_accidents outcome\n",
            "25    26-39  female  majority  ...    0              0   False\n",
            "38      65+    male  majority  ...    0              5   False\n",
            "45    40-64    male  majority  ...    0              4   False\n",
            "89    16-25    male  majority  ...    0              0    True\n",
            "113   16-25    male  majority  ...    0              0    True\n",
            "...     ...     ...       ...  ...  ...            ...     ...\n",
            "9884  26-39  female  majority  ...    0              0    True\n",
            "9932  16-25  female  majority  ...    0              0   False\n",
            "9943    65+    male  majority  ...    0              5   False\n",
            "9958  40-64    male  majority  ...    2              4   False\n",
            "9972  26-39  female  majority  ...    0              1   False\n",
            "\n",
            "[477 rows x 17 columns]\n"
          ],
          "name": "stdout"
        }
      ]
    },
    {
      "cell_type": "code",
      "metadata": {
        "colab": {
          "base_uri": "https://localhost:8080/"
        },
        "id": "M0blW9SZ64Wd",
        "outputId": "062777a9-1480-46e6-cd3f-bb736096f348"
      },
      "source": [
        "#Q4. What is the standard deviation in annual mileage?\n",
        "print(\"Standard Deviation of Annual Mileage is % s \"% (np.std(df['annual_mileage'])))"
      ],
      "execution_count": 250,
      "outputs": [
        {
          "output_type": "stream",
          "text": [
            "Standard Deviation of Annual Mileage is 2818.278688843016 \n"
          ],
          "name": "stdout"
        }
      ]
    },
    {
      "cell_type": "code",
      "metadata": {
        "colab": {
          "base_uri": "https://localhost:8080/"
        },
        "id": "D0K9BwoFLOJk",
        "outputId": "76f93d0b-1576-4ad8-c680-4439a39d6289"
      },
      "source": [
        "df.shape"
      ],
      "execution_count": 251,
      "outputs": [
        {
          "output_type": "execute_result",
          "data": {
            "text/plain": [
              "(10000, 17)"
            ]
          },
          "metadata": {
            "tags": []
          },
          "execution_count": 251
        }
      ]
    },
    {
      "cell_type": "code",
      "metadata": {
        "colab": {
          "base_uri": "https://localhost:8080/"
        },
        "id": "Ek8YRRQdKU1q",
        "outputId": "e708f027-92ea-49fb-804e-e29616564b96"
      },
      "source": [
        "df.isnull().sum()"
      ],
      "execution_count": 252,
      "outputs": [
        {
          "output_type": "execute_result",
          "data": {
            "text/plain": [
              "age                      0\n",
              "gender                   0\n",
              "race                     0\n",
              "driving_experience       0\n",
              "education                0\n",
              "income                   0\n",
              "credit_score           982\n",
              "vehicle_ownership        0\n",
              "vehicle_year             0\n",
              "married                  0\n",
              "children                 0\n",
              "annual_mileage         957\n",
              "vehicle_type             0\n",
              "speeding_violations      0\n",
              "DUIs                     0\n",
              "past_accidents           0\n",
              "outcome                  0\n",
              "dtype: int64"
            ]
          },
          "metadata": {
            "tags": []
          },
          "execution_count": 252
        }
      ]
    },
    {
      "cell_type": "code",
      "metadata": {
        "id": "xOv0Dgbms2V9"
      },
      "source": [
        "df.dropna(axis=0, inplace=True)"
      ],
      "execution_count": 253,
      "outputs": []
    },
    {
      "cell_type": "code",
      "metadata": {
        "id": "_OkoJtSutewU"
      },
      "source": [
        "le=LabelEncoder()"
      ],
      "execution_count": 254,
      "outputs": []
    },
    {
      "cell_type": "code",
      "metadata": {
        "colab": {
          "base_uri": "https://localhost:8080/"
        },
        "id": "8qVfla0FtC33",
        "outputId": "b53109b7-5f7c-4e06-d19b-2e051fe8fb66"
      },
      "source": [
        "df.dtypes"
      ],
      "execution_count": 255,
      "outputs": [
        {
          "output_type": "execute_result",
          "data": {
            "text/plain": [
              "age                     object\n",
              "gender                  object\n",
              "race                    object\n",
              "driving_experience      object\n",
              "education               object\n",
              "income                  object\n",
              "credit_score           float64\n",
              "vehicle_ownership         bool\n",
              "vehicle_year            object\n",
              "married                   bool\n",
              "children                  bool\n",
              "annual_mileage         float64\n",
              "vehicle_type            object\n",
              "speeding_violations      int64\n",
              "DUIs                     int64\n",
              "past_accidents           int64\n",
              "outcome                   bool\n",
              "dtype: object"
            ]
          },
          "metadata": {
            "tags": []
          },
          "execution_count": 255
        }
      ]
    },
    {
      "cell_type": "code",
      "metadata": {
        "id": "ufygc1aXs9f1"
      },
      "source": [
        "df['age']=le.fit_transform(df['age'])\n",
        "df['gender']=le.fit_transform(df['gender'])\n",
        "df['race']=le.fit_transform(df['race'])\n",
        "df['driving_experience']=le.fit_transform(df['driving_experience'])\n",
        "df['education']=le.fit_transform(df['education'])\n",
        "df['income']=le.fit_transform(df['income'])\n",
        "df['vehicle_year']=le.fit_transform(df['vehicle_year'])\n",
        "df['vehicle_type']=le.fit_transform(df['vehicle_type'])"
      ],
      "execution_count": 256,
      "outputs": []
    },
    {
      "cell_type": "code",
      "metadata": {
        "id": "58o5LfxweBqo"
      },
      "source": [
        "df['children'].replace({True:1,False:0}, inplace=True)\n",
        "df['married'].replace({True:1,False:0}, inplace=True)\n",
        "df['outcome'].replace({True:1,False:0}, inplace=True)\n",
        "df['vehicle_ownership'].replace({True:1,False:0}, inplace=True)"
      ],
      "execution_count": 257,
      "outputs": []
    },
    {
      "cell_type": "code",
      "metadata": {
        "id": "Ewwc0TmptTz4"
      },
      "source": [
        "x=df.drop(['outcome'], axis=1)\n",
        "y=df['outcome']"
      ],
      "execution_count": 258,
      "outputs": []
    },
    {
      "cell_type": "code",
      "metadata": {
        "id": "4RinzVlAyiRS"
      },
      "source": [
        "xtrain,xtest,ytrain,ytest=train_test_split(x,y, test_size=0.2)"
      ],
      "execution_count": 259,
      "outputs": []
    },
    {
      "cell_type": "code",
      "metadata": {
        "id": "o73ySKvfyXeH"
      },
      "source": [
        "#RANDOM FOREST CLASSIFIER\n",
        "rfc=RandomForestClassifier(n_estimators=49)"
      ],
      "execution_count": 310,
      "outputs": []
    },
    {
      "cell_type": "code",
      "metadata": {
        "colab": {
          "base_uri": "https://localhost:8080/"
        },
        "id": "mlDFFr_Vye35",
        "outputId": "9d2ba313-914f-48fe-af80-3ed2801d864c"
      },
      "source": [
        "rfc.fit(xtrain,ytrain)"
      ],
      "execution_count": 311,
      "outputs": [
        {
          "output_type": "execute_result",
          "data": {
            "text/plain": [
              "RandomForestClassifier(bootstrap=True, ccp_alpha=0.0, class_weight=None,\n",
              "                       criterion='gini', max_depth=None, max_features='auto',\n",
              "                       max_leaf_nodes=None, max_samples=None,\n",
              "                       min_impurity_decrease=0.0, min_impurity_split=None,\n",
              "                       min_samples_leaf=1, min_samples_split=2,\n",
              "                       min_weight_fraction_leaf=0.0, n_estimators=49,\n",
              "                       n_jobs=None, oob_score=False, random_state=None,\n",
              "                       verbose=0, warm_start=False)"
            ]
          },
          "metadata": {
            "tags": []
          },
          "execution_count": 311
        }
      ]
    },
    {
      "cell_type": "code",
      "metadata": {
        "id": "Mg_7lMAzzDIT"
      },
      "source": [
        "ypred=rfc.predict(xtest)"
      ],
      "execution_count": 312,
      "outputs": []
    },
    {
      "cell_type": "code",
      "metadata": {
        "colab": {
          "base_uri": "https://localhost:8080/"
        },
        "id": "KmXA0BXXzTx3",
        "outputId": "393a7306-ec1f-4331-8c49-fdf1d1b9fc98"
      },
      "source": [
        "\n",
        "print(\"Classification Report is:\\n\",classification_report(ytest,ypred))\n",
        "print(\"Confusion Matrix:\\n\",confusion_matrix(ytest,ypred))\n",
        "print(\"Training Score:\\n\",rfc.score(xtrain,ytrain)*100)\n",
        "print(\"Root Mean Squared Error:\\n\",sqrt(mean_squared_error(ytest,ypred)))\n",
        "print(\"R2 score is:\\n\",r2_score(ytest,ypred))"
      ],
      "execution_count": 313,
      "outputs": [
        {
          "output_type": "stream",
          "text": [
            "Classification Report is:\n",
            "               precision    recall  f1-score   support\n",
            "\n",
            "           0       0.86      0.90      0.88      1125\n",
            "           1       0.74      0.67      0.71       505\n",
            "\n",
            "    accuracy                           0.83      1630\n",
            "   macro avg       0.80      0.78      0.79      1630\n",
            "weighted avg       0.82      0.83      0.82      1630\n",
            "\n",
            "Confusion Matrix:\n",
            " [[1008  117]\n",
            " [ 165  340]]\n",
            "Training Score:\n",
            " 99.95398067188219\n",
            "Root Mean Squared Error:\n",
            " 0.41594006175087916\n",
            "R2 score is:\n",
            " 0.19091749174917494\n"
          ],
          "name": "stdout"
        }
      ]
    },
    {
      "cell_type": "code",
      "metadata": {
        "colab": {
          "base_uri": "https://localhost:8080/"
        },
        "id": "S_8WS6mI_JDK",
        "outputId": "47826dea-195f-4fdf-ad90-860a22234a99"
      },
      "source": [
        "acc=accuracy_score(ytest,ypred)\n",
        "acc"
      ],
      "execution_count": 314,
      "outputs": [
        {
          "output_type": "execute_result",
          "data": {
            "text/plain": [
              "0.8269938650306748"
            ]
          },
          "metadata": {
            "tags": []
          },
          "execution_count": 314
        }
      ]
    },
    {
      "cell_type": "code",
      "metadata": {
        "colab": {
          "base_uri": "https://localhost:8080/"
        },
        "id": "sgVZQjfJSEYr",
        "outputId": "3d33d51d-23a2-43f5-8c4f-677642410f75"
      },
      "source": [
        "k_range = range(1, 50)\n",
        "values = []\n",
        "for k in k_range:\n",
        "    rfc=RandomForestClassifier(n_estimators=k)\n",
        "    rfc.fit(xtrain, ytrain)\n",
        "    ypred = rfc.predict(xtest)\n",
        "    values.append(accuracy_score(ytest,ypred))\n",
        "print(values)"
      ],
      "execution_count": 315,
      "outputs": [
        {
          "output_type": "stream",
          "text": [
            "[0.758282208588957, 0.7858895705521473, 0.803680981595092, 0.8049079754601227, 0.80920245398773, 0.7993865030674847, 0.8104294478527607, 0.8128834355828221, 0.8245398773006135, 0.8104294478527607, 0.8220858895705522, 0.8171779141104294, 0.8239263803680982, 0.8184049079754602, 0.8312883435582822, 0.8257668711656442, 0.8239263803680982, 0.8374233128834356, 0.8300613496932515, 0.8233128834355828, 0.8251533742331288, 0.8245398773006135, 0.8319018404907975, 0.8226993865030675, 0.8300613496932515, 0.8233128834355828, 0.8319018404907975, 0.8257668711656442, 0.8251533742331288, 0.8214723926380368, 0.8294478527607362, 0.8251533742331288, 0.8233128834355828, 0.8331288343558282, 0.8306748466257668, 0.8276073619631902, 0.8245398773006135, 0.8276073619631902, 0.8276073619631902, 0.8343558282208589, 0.8349693251533742, 0.8319018404907975, 0.8251533742331288, 0.8294478527607362, 0.8343558282208589, 0.8288343558282208, 0.8245398773006135, 0.8361963190184049, 0.8343558282208589]\n"
          ],
          "name": "stdout"
        }
      ]
    },
    {
      "cell_type": "code",
      "metadata": {
        "colab": {
          "base_uri": "https://localhost:8080/",
          "height": 515
        },
        "id": "AJ-NJ077SAnf",
        "outputId": "962e95a9-66b8-41fa-bcaa-dc6ebd56f4ec"
      },
      "source": [
        "plt.figure(figsize=(10,8))\n",
        "plt.plot(k_range, values)\n",
        "\n",
        "plt.xlabel('Value of n_estimator for Random Forest Classifier')\n",
        "plt.ylabel('Testing Accuracy')"
      ],
      "execution_count": 317,
      "outputs": [
        {
          "output_type": "execute_result",
          "data": {
            "text/plain": [
              "Text(0, 0.5, 'Testing Accuracy')"
            ]
          },
          "metadata": {
            "tags": []
          },
          "execution_count": 317
        },
        {
          "output_type": "display_data",
          "data": {
            "image/png": "[encoded data removed]",
            "text/plain": [
              "<Figure size 720x576 with 1 Axes>"
            ]
          },
          "metadata": {
            "tags": [],
            "needs_background": "light"
          }
        }
      ]
    },
    {
      "cell_type": "code",
      "metadata": {
        "id": "ID8XWF82zmf-"
      },
      "source": [
        "#Standard Scaler\n",
        "stdc=StandardScaler()\n",
        "x_train= stdc.fit_transform(xtrain)    \n",
        "x_test= stdc.transform(xtest)  "
      ],
      "execution_count": 265,
      "outputs": []
    },
    {
      "cell_type": "code",
      "metadata": {
        "colab": {
          "base_uri": "https://localhost:8080/"
        },
        "id": "_CqcVfDr8OdW",
        "outputId": "0ae958f2-73c4-48ad-f8d4-7f3e53b7e9f9"
      },
      "source": [
        "#KNeighbour CLassifier\n",
        "knn=KNeighborsClassifier(n_neighbors=30, metric='minkowski', p=2)\n",
        "knn.fit(xtrain,ytrain)"
      ],
      "execution_count": 304,
      "outputs": [
        {
          "output_type": "execute_result",
          "data": {
            "text/plain": [
              "KNeighborsClassifier(algorithm='auto', leaf_size=30, metric='minkowski',\n",
              "                     metric_params=None, n_jobs=None, n_neighbors=30, p=2,\n",
              "                     weights='uniform')"
            ]
          },
          "metadata": {
            "tags": []
          },
          "execution_count": 304
        }
      ]
    },
    {
      "cell_type": "code",
      "metadata": {
        "id": "FNqjq9S-8uOS"
      },
      "source": [
        "ypred1=knn.predict(xtest)"
      ],
      "execution_count": 305,
      "outputs": []
    },
    {
      "cell_type": "code",
      "metadata": {
        "colab": {
          "base_uri": "https://localhost:8080/"
        },
        "id": "8EcnjQCa9Axh",
        "outputId": "f33ec285-8732-41af-b6e0-bfba0eb60648"
      },
      "source": [
        "cm= confusion_matrix(ytest, ypred1)  \n",
        "cm"
      ],
      "execution_count": 306,
      "outputs": [
        {
          "output_type": "execute_result",
          "data": {
            "text/plain": [
              "array([[1001,  124],\n",
              "       [ 197,  308]])"
            ]
          },
          "metadata": {
            "tags": []
          },
          "execution_count": 306
        }
      ]
    },
    {
      "cell_type": "code",
      "metadata": {
        "colab": {
          "base_uri": "https://localhost:8080/"
        },
        "id": "raPpIJV59f-D",
        "outputId": "b91742e7-b130-4284-df62-45860f9209a3"
      },
      "source": [
        "sqrt(mean_squared_error(ytest,ypred1))\n",
        "print(knn.score(xtrain,ytrain)*100)"
      ],
      "execution_count": 307,
      "outputs": [
        {
          "output_type": "stream",
          "text": [
            "80.84061972695199\n"
          ],
          "name": "stdout"
        }
      ]
    },
    {
      "cell_type": "code",
      "metadata": {
        "colab": {
          "base_uri": "https://localhost:8080/"
        },
        "id": "NJVwYGyu99Au",
        "outputId": "e4c58314-a6c6-415d-aa46-c8762ff7188f"
      },
      "source": [
        "acc=accuracy_score(ytest,ypred1)\n",
        "acc"
      ],
      "execution_count": 308,
      "outputs": [
        {
          "output_type": "execute_result",
          "data": {
            "text/plain": [
              "0.8030674846625767"
            ]
          },
          "metadata": {
            "tags": []
          },
          "execution_count": 308
        }
      ]
    },
    {
      "cell_type": "code",
      "metadata": {
        "colab": {
          "base_uri": "https://localhost:8080/"
        },
        "id": "DpIVk-qSN9Lg",
        "outputId": "1bfd0ca1-1630-4e4d-db50-6410e613da0c"
      },
      "source": [
        "k_range = range(1, 31)\n",
        "values = []\n",
        "for k in k_range:\n",
        "    knn = KNeighborsClassifier(n_neighbors=k)\n",
        "    knn.fit(xtrain, ytrain)\n",
        "    y_pred = knn.predict(xtest)\n",
        "    values.append(knn.score(xtest, ytest))\n",
        "print(values)"
      ],
      "execution_count": 309,
      "outputs": [
        {
          "output_type": "stream",
          "text": [
            "[0.7521472392638037, 0.7815950920245399, 0.7889570552147239, 0.7926380368098159, 0.7975460122699386, 0.8, 0.801840490797546, 0.801840490797546, 0.8042944785276074, 0.8006134969325154, 0.8042944785276074, 0.8098159509202454, 0.8067484662576687, 0.8079754601226994, 0.803680981595092, 0.805521472392638, 0.803680981595092, 0.8085889570552147, 0.807361963190184, 0.8116564417177914, 0.8042944785276074, 0.8067484662576687, 0.805521472392638, 0.8042944785276074, 0.8, 0.8012269938650307, 0.8024539877300614, 0.805521472392638, 0.8042944785276074, 0.8030674846625767]\n"
          ],
          "name": "stdout"
        }
      ]
    },
    {
      "cell_type": "code",
      "metadata": {
        "colab": {
          "base_uri": "https://localhost:8080/",
          "height": 568
        },
        "id": "ncTSwkpGRrb1",
        "outputId": "883c728d-e0a2-431c-f30b-0b737dc84a55"
      },
      "source": [
        "plt.figure(figsize=(10,8))\n",
        "sns.lineplot(k_range, values)\n",
        "plt.xlabel('Value of K for KNN')\n",
        "plt.ylabel('Testing Accuracy')"
      ],
      "execution_count": 299,
      "outputs": [
        {
          "output_type": "stream",
          "text": [
            "/usr/local/lib/python3.7/dist-packages/seaborn/_decorators.py:43: FutureWarning: Pass the following variables as keyword args: x, y. From version 0.12, the only valid positional argument will be `data`, and passing other arguments without an explicit keyword will result in an error or misinterpretation.\n",
            "  FutureWarning\n"
          ],
          "name": "stderr"
        },
        {
          "output_type": "execute_result",
          "data": {
            "text/plain": [
              "Text(0, 0.5, 'Testing Accuracy')"
            ]
          },
          "metadata": {
            "tags": []
          },
          "execution_count": 299
        },
        {
          "output_type": "display_data",
          "data": {
            "image/png": "[encoded data removed]",
            "text/plain": [
              "<Figure size 720x576 with 1 Axes>"
            ]
          },
          "metadata": {
            "tags": [],
            "needs_background": "light"
          }
        }
      ]
    },
    {
      "cell_type": "code",
      "metadata": {
        "id": "KoeRK-w6RwY4"
      },
      "source": [
        ""
      ],
      "execution_count": null,
      "outputs": []
    }
  ]
}